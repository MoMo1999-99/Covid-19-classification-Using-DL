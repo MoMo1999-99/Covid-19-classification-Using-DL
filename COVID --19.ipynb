{
 "cells": [
  {
   "cell_type": "markdown",
   "id": "bd4b19f5",
   "metadata": {},
   "source": [
    "### Importing Libraries"
   ]
  },
  {
   "cell_type": "code",
   "execution_count": 1,
   "id": "93b0f7d3",
   "metadata": {
    "scrolled": true
   },
   "outputs": [],
   "source": [
    "from glob import glob\n",
    "import numpy as np\n",
    "import pandas as pd\n",
    "import matplotlib.pyplot as plt \n",
    "import cv2 \n",
    "import tensorflow as tf\n",
    "from PIL import Image\n",
    "import os\n",
    "from sklearn.model_selection import train_test_split\n",
    "from keras.utils import to_categorical\n",
    "from keras.models import Sequential,load_model\n",
    "from keras.layers import Conv2D ,MaxPool2D,Dense,Flatten,Dropout  \n",
    "from tensorflow.keras.preprocessing.image import load_img\n",
    "from matplotlib.image import imread\n",
    "import cv2\n",
    "from sklearn.model_selection import train_test_split\n",
    "from keras.utils.np_utils import to_categorical\n",
    "import tensorflow as tf\n",
    "from tensorflow import keras"
   ]
  },
  {
   "cell_type": "markdown",
   "id": "7758a53d",
   "metadata": {},
   "source": [
    "### Loading Data File"
   ]
  },
  {
   "cell_type": "code",
   "execution_count": 2,
   "id": "189c440c",
   "metadata": {},
   "outputs": [
    {
     "name": "stdout",
     "output_type": "stream",
     "text": [
      "536\n"
     ]
    }
   ],
   "source": [
    "covid_paths=[]\n",
    "for name in glob('D:\\projects\\Covid --- 19\\covid\\*',recursive=True):\n",
    "    covid_paths.append(name)\n",
    "print(len(covid_paths))"
   ]
  },
  {
   "cell_type": "code",
   "execution_count": 3,
   "id": "cc1c6810",
   "metadata": {
    "scrolled": true
   },
   "outputs": [
    {
     "name": "stdout",
     "output_type": "stream",
     "text": [
      "536\n"
     ]
    }
   ],
   "source": [
    "normal_paths=[]\n",
    "for name in glob('D:\\\\projects\\\\Covid --- 19\\\\normal\\*',recursive=True):\n",
    "    normal_paths.append(name)\n",
    "print(len(normal_paths))"
   ]
  },
  {
   "cell_type": "markdown",
   "id": "205c9f15",
   "metadata": {},
   "source": [
    "### reading images"
   ]
  },
  {
   "cell_type": "code",
   "execution_count": 4,
   "id": "4f16ff71",
   "metadata": {},
   "outputs": [],
   "source": [
    "def get_image_arrays(data, label):\n",
    "    img_arrays = []\n",
    "    for i in data:\n",
    "        img = cv2.imread(i ,cv2.IMREAD_COLOR)\n",
    "        img_sized = cv2.resize(img, (50, 50), interpolation=cv2.INTER_LINEAR)\n",
    "        img_arrays.append([img_sized, label])\n",
    "    return img_arrays"
   ]
  },
  {
   "cell_type": "code",
   "execution_count": 5,
   "id": "fbbaa2cb",
   "metadata": {},
   "outputs": [],
   "source": [
    "class0_array = get_image_arrays(normal_paths, 0)\n",
    "class1_array = get_image_arrays(covid_paths, 1)"
   ]
  },
  {
   "cell_type": "code",
   "execution_count": 6,
   "id": "80aa0eaf",
   "metadata": {},
   "outputs": [
    {
     "data": {
      "text/plain": [
       "<matplotlib.image.AxesImage at 0x1da753c3ca0>"
      ]
     },
     "execution_count": 6,
     "metadata": {},
     "output_type": "execute_result"
    },
    {
     "data": {
      "image/png": "[encoded data removed]",
      "text/plain": [
       "<Figure size 432x288 with 1 Axes>"
      ]
     },
     "metadata": {
      "needs_background": "light"
     },
     "output_type": "display_data"
    }
   ],
   "source": [
    "plt.imshow(class1_array[0][0])"
   ]
  },
  {
   "cell_type": "code",
   "execution_count": 7,
   "id": "b0eb885d",
   "metadata": {
    "scrolled": true
   },
   "outputs": [
    {
     "name": "stderr",
     "output_type": "stream",
     "text": [
      "<__array_function__ internals>:5: VisibleDeprecationWarning: Creating an ndarray from ragged nested sequences (which is a list-or-tuple of lists-or-tuples-or ndarrays with different lengths or shapes) is deprecated. If you meant to do this, you must specify 'dtype=object' when creating the ndarray.\n"
     ]
    }
   ],
   "source": [
    "combined_data = np.concatenate((class0_array, class1_array))"
   ]
  },
  {
   "cell_type": "markdown",
   "id": "0d1fc118",
   "metadata": {},
   "source": [
    "### Splitting data"
   ]
  },
  {
   "cell_type": "code",
   "execution_count": 8,
   "id": "2bdba558",
   "metadata": {},
   "outputs": [],
   "source": [
    "X = []\n",
    "y = []\n",
    "\n",
    "for features,label in combined_data:\n",
    "    X.append(features)\n",
    "    y.append(label)"
   ]
  },
  {
   "cell_type": "code",
   "execution_count": 9,
   "id": "6f8c139e",
   "metadata": {},
   "outputs": [],
   "source": [
    "X = np.array(X).reshape(-1, 50, 50, 3)"
   ]
  },
  {
   "cell_type": "code",
   "execution_count": 10,
   "id": "5b822450",
   "metadata": {},
   "outputs": [
    {
     "name": "stdout",
     "output_type": "stream",
     "text": [
      "(804, 50, 50, 3) (268, 50, 50, 3) (804, 2) (268, 2)\n"
     ]
    }
   ],
   "source": [
    "X_train, X_test, y_train, y_test = train_test_split(X, y, test_size=0.25, random_state=42)\n",
    "y_train = to_categorical(y_train)\n",
    "y_test = to_categorical(y_test)\n",
    "print(X_train.shape, X_test.shape, y_train.shape, y_test.shape)"
   ]
  },
  {
   "cell_type": "markdown",
   "id": "e784a673",
   "metadata": {},
   "source": [
    "### Building model"
   ]
  },
  {
   "cell_type": "code",
   "execution_count": 11,
   "id": "514b7086",
   "metadata": {},
   "outputs": [],
   "source": [
    "model = keras.models.Sequential([\n",
    "    keras.layers.Conv2D(filters=100, kernel_size=(3,3), strides=(1,1), activation='relu', input_shape=(50,50,3)),\n",
    "    keras.layers.BatchNormalization(),\n",
    "    keras.layers.MaxPool2D(pool_size=(2,2), strides=(2,2)),\n",
    "    keras.layers.Conv2D(filters=256, kernel_size=(2,2), strides=(2,2), activation='relu', padding=\"same\"),\n",
    "    keras.layers.BatchNormalization(),\n",
    "    keras.layers.MaxPool2D(pool_size=(3,3), strides=(2,2)),\n",
    "    keras.layers.Conv2D(filters=384, kernel_size=(2,2), strides=(1,1), activation='relu', padding=\"same\"),\n",
    "    keras.layers.BatchNormalization(),\n",
    "    keras.layers.Conv2D(filters=384, kernel_size=(1,1), strides=(1,1), activation='relu', padding=\"same\"),\n",
    "    keras.layers.BatchNormalization(),\n",
    "    keras.layers.Conv2D(filters=256, kernel_size=(1,1), strides=(1,1), activation='relu', padding=\"same\"),\n",
    "    keras.layers.BatchNormalization(),\n",
    "    keras.layers.MaxPool2D(pool_size=(3,3), strides=(2,2)),\n",
    "    keras.layers.Flatten(),\n",
    "    keras.layers.Dense(9216,input_shape=(12544,), activation='relu'),\n",
    "    keras.layers.Dense(4096, activation='relu'),\n",
    "    keras.layers.Dropout(0.5),\n",
    "    keras.layers.Dense(4096, activation='relu'),\n",
    "    keras.layers.Dropout(0.5),\n",
    "    keras.layers.Dense(2, activation='sigmoid')\n",
    "])"
   ]
  },
  {
   "cell_type": "code",
   "execution_count": 12,
   "id": "aafbf978",
   "metadata": {},
   "outputs": [],
   "source": [
    "## compiling model\n",
    "model.compile(\n",
    "    optimizer=tf.optimizers.Adam(learning_rate=0.000001),\n",
    "    loss='binary_crossentropy',\n",
    "    metrics=['accuracy','Recall','Precision']\n",
    ")"
   ]
  },
  {
   "cell_type": "code",
   "execution_count": 13,
   "id": "12c042cb",
   "metadata": {
    "scrolled": true
   },
   "outputs": [
    {
     "name": "stdout",
     "output_type": "stream",
     "text": [
      "Epoch 1/16\n",
      "26/26 [==============================] - 21s 704ms/step - loss: 0.7403 - accuracy: 0.5448 - recall: 0.4552 - precision: 0.5571 - val_loss: 0.6944 - val_accuracy: 0.5149 - val_recall: 0.5224 - val_precision: 0.5185\n",
      "Epoch 2/16\n",
      "26/26 [==============================] - 19s 743ms/step - loss: 0.6856 - accuracy: 0.6580 - recall: 0.6182 - precision: 0.6046 - val_loss: 0.6763 - val_accuracy: 0.5149 - val_recall: 0.5672 - val_precision: 0.5390\n",
      "Epoch 3/16\n",
      "26/26 [==============================] - 20s 760ms/step - loss: 0.6149 - accuracy: 0.7102 - recall: 0.6692 - precision: 0.6609 - val_loss: 0.6573 - val_accuracy: 0.5261 - val_recall: 0.5634 - val_precision: 0.5412\n",
      "Epoch 4/16\n",
      "26/26 [==============================] - 22s 834ms/step - loss: 0.5656 - accuracy: 0.7637 - recall: 0.7040 - precision: 0.7075 - val_loss: 0.6315 - val_accuracy: 0.5896 - val_recall: 0.6306 - val_precision: 0.5909\n",
      "Epoch 5/16\n",
      "26/26 [==============================] - 20s 769ms/step - loss: 0.5267 - accuracy: 0.7973 - recall: 0.7413 - precision: 0.7497 - val_loss: 0.5969 - val_accuracy: 0.7090 - val_recall: 0.7985 - val_precision: 0.6903\n",
      "Epoch 6/16\n",
      "26/26 [==============================] - 18s 684ms/step - loss: 0.4807 - accuracy: 0.8619 - recall: 0.7774 - precision: 0.7962 - val_loss: 0.5585 - val_accuracy: 0.8507 - val_recall: 0.8731 - val_precision: 0.8125\n",
      "Epoch 7/16\n",
      "26/26 [==============================] - 18s 713ms/step - loss: 0.4611 - accuracy: 0.8495 - recall: 0.8022 - precision: 0.8154 - val_loss: 0.5143 - val_accuracy: 0.8993 - val_recall: 0.9104 - val_precision: 0.8652\n",
      "Epoch 8/16\n",
      "26/26 [==============================] - 18s 703ms/step - loss: 0.4287 - accuracy: 0.8868 - recall: 0.8271 - precision: 0.8313 - val_loss: 0.4713 - val_accuracy: 0.9142 - val_recall: 0.9440 - val_precision: 0.8908\n",
      "Epoch 9/16\n",
      "26/26 [==============================] - 18s 697ms/step - loss: 0.4098 - accuracy: 0.8806 - recall: 0.8358 - precision: 0.8379 - val_loss: 0.4274 - val_accuracy: 0.9216 - val_recall: 0.9440 - val_precision: 0.9134\n",
      "Epoch 10/16\n",
      "26/26 [==============================] - 17s 657ms/step - loss: 0.3801 - accuracy: 0.9017 - recall: 0.8769 - precision: 0.8640 - val_loss: 0.3872 - val_accuracy: 0.9328 - val_recall: 0.9478 - val_precision: 0.9137\n",
      "Epoch 11/16\n",
      "26/26 [==============================] - 17s 653ms/step - loss: 0.3541 - accuracy: 0.9241 - recall: 0.8806 - precision: 0.8861 - val_loss: 0.3532 - val_accuracy: 0.9440 - val_recall: 0.9590 - val_precision: 0.9211\n",
      "Epoch 12/16\n",
      "26/26 [==============================] - 16s 627ms/step - loss: 0.3346 - accuracy: 0.9092 - recall: 0.8794 - precision: 0.8916 - val_loss: 0.3238 - val_accuracy: 0.9478 - val_recall: 0.9590 - val_precision: 0.9179\n",
      "Epoch 13/16\n",
      "26/26 [==============================] - 17s 674ms/step - loss: 0.3314 - accuracy: 0.8943 - recall: 0.8731 - precision: 0.8786 - val_loss: 0.2973 - val_accuracy: 0.9440 - val_recall: 0.9664 - val_precision: 0.9152\n",
      "Epoch 14/16\n",
      "26/26 [==============================] - 18s 688ms/step - loss: 0.3019 - accuracy: 0.9229 - recall: 0.9030 - precision: 0.8974 - val_loss: 0.2749 - val_accuracy: 0.9403 - val_recall: 0.9664 - val_precision: 0.9217\n",
      "Epoch 15/16\n",
      "26/26 [==============================] - 17s 663ms/step - loss: 0.2936 - accuracy: 0.9266 - recall: 0.9042 - precision: 0.9099 - val_loss: 0.2555 - val_accuracy: 0.9478 - val_recall: 0.9664 - val_precision: 0.9184\n",
      "Epoch 16/16\n",
      "26/26 [==============================] - 18s 699ms/step - loss: 0.2680 - accuracy: 0.9353 - recall: 0.9154 - precision: 0.9212 - val_loss: 0.2374 - val_accuracy: 0.9478 - val_recall: 0.9664 - val_precision: 0.9250\n"
     ]
    }
   ],
   "source": [
    "### fitting model\n",
    "history=model.fit(X_train,y_train, validation_data=(X_test, y_test),epochs=16)"
   ]
  },
  {
   "cell_type": "code",
   "execution_count": 14,
   "id": "293daf5c",
   "metadata": {},
   "outputs": [
    {
     "name": "stdout",
     "output_type": "stream",
     "text": [
      "9/9 [==============================] - 1s 92ms/step - loss: 0.2374 - accuracy: 0.9478 - recall: 0.9664 - precision: 0.9250\n"
     ]
    }
   ],
   "source": [
    "e=model.evaluate(X_test,y_test)"
   ]
  },
  {
   "cell_type": "code",
   "execution_count": 15,
   "id": "1eb67fd6",
   "metadata": {},
   "outputs": [
    {
     "data": {
      "image/png": "[encoded data removed]",
      "text/plain": [
       "<Figure size 432x288 with 1 Axes>"
      ]
     },
     "metadata": {
      "needs_background": "light"
     },
     "output_type": "display_data"
    }
   ],
   "source": [
    "import matplotlib.pyplot as plt\n",
    "#plotting the Accuracy of test and training sets\n",
    "plt.plot(history.history['accuracy'])\n",
    "plt.plot(history.history['val_accuracy'])\n",
    "plt.title('Model Accuracy')\n",
    "plt.ylabel('accuracy')\n",
    "plt.xlabel('epoch')\n",
    "plt.legend(['train', 'test'], loc='upper left')\n",
    "plt.show()"
   ]
  },
  {
   "cell_type": "code",
   "execution_count": 16,
   "id": "0b42f00a",
   "metadata": {},
   "outputs": [
    {
     "data": {
      "image/png": "[encoded data removed]",
      "text/plain": [
       "<Figure size 432x288 with 1 Axes>"
      ]
     },
     "metadata": {
      "needs_background": "light"
     },
     "output_type": "display_data"
    }
   ],
   "source": [
    "plt.plot(history.history['loss'])\n",
    "plt.plot(history.history['val_loss'])\n",
    "plt.title('Model Loss')\n",
    "plt.ylabel('loss')\n",
    "plt.xlabel('epoch')\n",
    "plt.legend(['train', 'test'], loc='upper left')\n",
    "plt.show()"
   ]
  },
  {
   "cell_type": "code",
   "execution_count": 17,
   "id": "d3864e49",
   "metadata": {},
   "outputs": [
    {
     "name": "stdout",
     "output_type": "stream",
     "text": [
      "9/9 [==============================] - 1s 84ms/step\n"
     ]
    }
   ],
   "source": [
    "y_pred=model.predict(X_test)"
   ]
  },
  {
   "cell_type": "code",
   "execution_count": 18,
   "id": "21715982",
   "metadata": {},
   "outputs": [],
   "source": [
    "Y_pred=[]\n",
    "for i in y_pred:\n",
    "    if i[0]>i[1]:\n",
    "        Y_pred.append(0)\n",
    "    else:\n",
    "        Y_pred.append(1)"
   ]
  },
  {
   "cell_type": "code",
   "execution_count": 19,
   "id": "cbb82074",
   "metadata": {},
   "outputs": [],
   "source": [
    "Y_test=[]\n",
    "for i in y_test:\n",
    "    if i[0]>i[1]:\n",
    "        Y_test.append(0)\n",
    "    else:\n",
    "        Y_test.append(1)"
   ]
  },
  {
   "cell_type": "code",
   "execution_count": 20,
   "id": "943fb112",
   "metadata": {},
   "outputs": [
    {
     "name": "stdout",
     "output_type": "stream",
     "text": [
      "Confusion Matrix\n",
      "[[133   5]\n",
      " [  9 121]]\n",
      "Classification Report\n",
      "              precision    recall  f1-score   support\n",
      "\n",
      "    Negative       0.94      0.96      0.95       138\n",
      "    Positive       0.96      0.93      0.95       130\n",
      "\n",
      "    accuracy                           0.95       268\n",
      "   macro avg       0.95      0.95      0.95       268\n",
      "weighted avg       0.95      0.95      0.95       268\n",
      "\n"
     ]
    }
   ],
   "source": [
    "### Evaluation of model\n",
    "from sklearn.metrics import classification_report, confusion_matrix\n",
    "print('Confusion Matrix')\n",
    "print(confusion_matrix(Y_test, Y_pred))\n",
    "print('Classification Report')\n",
    "print(classification_report(Y_test, Y_pred, target_names=['Negative','Positive']))"
   ]
  },
  {
   "cell_type": "code",
   "execution_count": null,
   "id": "5f20ba64",
   "metadata": {},
   "outputs": [],
   "source": []
  }
 ],
 "metadata": {
  "kernelspec": {
   "display_name": "Python 3 (ipykernel)",
   "language": "python",
   "name": "python3"
  },
  "language_info": {
   "codemirror_mode": {
    "name": "ipython",
    "version": 3
   },
   "file_extension": ".py",
   "mimetype": "text/x-python",
   "name": "python",
   "nbconvert_exporter": "python",
   "pygments_lexer": "ipython3",
   "version": "3.9.7"
  }
 },
 "nbformat": 4,
 "nbformat_minor": 5
}
